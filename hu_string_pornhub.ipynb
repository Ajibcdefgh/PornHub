{
  "nbformat": 4,
  "nbformat_minor": 0,
  "metadata": {
    "colab": {
      "name": "Welcome To Colaboratory",
      "provenance": [],
      "collapsed_sections": [
        "NM3WcHVOtn94"
      ],
      "include_colab_link": true
    },
    "kernelspec": {
      "display_name": "Python 3",
      "name": "python3"
    }
  },
  "cells": [
    {
      "cell_type": "markdown",
      "metadata": {
        "id": "view-in-github",
        "colab_type": "text"
      },
      "source": [
        "<a href=\"https://colab.research.google.com/github/ravana69/PornHub/blob/master/hu_string_pornhub.ipynb\" target=\"_parent\"><img src=\"https://colab.research.google.com/assets/colab-badge.svg\" alt=\"Open In Colab\"/></a>"
      ]
    },
    {
      "cell_type": "markdown",
      "metadata": {
        "id": "138hwFzft9D7",
        "colab_type": "text"
      },
      "source": [
        "# 💎Powered By Pornhub Userbot💎"
      ]
    },
    {
      "cell_type": "markdown",
      "metadata": {
        "id": "NM3WcHVOtn94",
        "colab_type": "text"
      },
      "source": [
        "# 👇Run Bottom Module To Clear All Database From Colab👇"
      ]
    },
    {
      "cell_type": "code",
      "metadata": {
        "id": "v1gsYl4Wq_Jr",
        "colab_type": "code",
        "colab": {
          "base_uri": "https://localhost:8080/",
          "height": 34
        },
        "outputId": "42abfb2b-5eb1-45c2-d17b-b6c690354728"
      },
      "source": [
        "rm -rf pornhub"
      ],
      "execution_count": null,
      "outputs": [
        {
          "output_type": "stream",
          "text": [
            "\u001b[0m\u001b[01;34mpornhub\u001b[0m/  \u001b[01;34mvenv\u001b[0m/\n"
          ],
          "name": "stdout"
        }
      ]
    },
    {
      "cell_type": "markdown",
      "metadata": {
        "id": "iAEb6_wVtE69",
        "colab_type": "text"
      },
      "source": [
        "# 👇Run To Get HU String👇\n",
        " \n",
        "👁️Note:- Click the above module if already run before."
      ]
    },
    {
      "cell_type": "code",
      "metadata": {
        "id": "Gd2xAWbPprXs",
        "colab_type": "code",
        "colab": {
          "base_uri": "https://localhost:8080/",
          "height": 755
        },
        "outputId": "faaf390f-f26b-4f70-e59e-7b97cc4f7908"
      },
      "source": [
        "!apt install python git wget && apt-get install python3-venv && python3 -m venv venv && . ./venv/bin/activate && mkdir pornhub && cd pornhub && git clone https://github.com/ravana69/pornhub && cd pornhub && pip install telethon && pip install --upgrade pip && python3 GenerateStringSession.py && rm -rf pornhub"
      ],
      "execution_count": null,
      "outputs": [
        {
          "output_type": "stream",
          "text": [
            "\rReading package lists... 0%\r\rReading package lists... 0%\r\rReading package lists... 0%\r\rReading package lists... 6%\r\rReading package lists... 6%\r\rReading package lists... 6%\r\rReading package lists... 6%\r\rReading package lists... 62%\r\rReading package lists... 62%\r\rReading package lists... 63%\r\rReading package lists... 63%\r\rReading package lists... 66%\r\rReading package lists... 71%\r\rReading package lists... 71%\r\rReading package lists... 71%\r\rReading package lists... 71%\r\rReading package lists... 80%\r\rReading package lists... 80%\r\rReading package lists... 80%\r\rReading package lists... 80%\r\rReading package lists... 81%\r\rReading package lists... 81%\r\rReading package lists... 81%\r\rReading package lists... 81%\r\rReading package lists... 87%\r\rReading package lists... 87%\r\rReading package lists... 87%\r\rReading package lists... 87%\r\rReading package lists... 93%\r\rReading package lists... 93%\r\rReading package lists... 93%\r\rReading package lists... 93%\r\rReading package lists... 93%\r\rReading package lists... 93%\r\rReading package lists... 94%\r\rReading package lists... 94%\r\rReading package lists... 95%\r\rReading package lists... 95%\r\rReading package lists... 98%\r\rReading package lists... 98%\r\rReading package lists... 98%\r\rReading package lists... 98%\r\rReading package lists... Done\r\n",
            "\rBuilding dependency tree... 0%\r\rBuilding dependency tree... 0%\r\rBuilding dependency tree... 50%\r\rBuilding dependency tree... 50%\r\rBuilding dependency tree       \r\n",
            "\rReading state information... 0%\r\rReading state information... 0%\r\rReading state information... Done\r\n",
            "python is already the newest version (2.7.15~rc1-1).\n",
            "git is already the newest version (1:2.17.1-1ubuntu0.7).\n",
            "wget is already the newest version (1.19.4-1ubuntu2.2).\n",
            "The following package was automatically installed and is no longer required:\n",
            "  libnvidia-common-440\n",
            "Use 'apt autoremove' to remove it.\n",
            "0 upgraded, 0 newly installed, 0 to remove and 59 not upgraded.\n",
            "Reading package lists... Done\n",
            "Building dependency tree       \n",
            "Reading state information... Done\n",
            "python3-venv is already the newest version (3.6.7-1~18.04).\n",
            "The following package was automatically installed and is no longer required:\n",
            "  libnvidia-common-440\n",
            "Use 'apt autoremove' to remove it.\n",
            "0 upgraded, 0 newly installed, 0 to remove and 59 not upgraded.\n",
            "Cloning into 'pornhub'...\n",
            "remote: Enumerating objects: 7, done.\u001b[K\n",
            "remote: Counting objects: 100% (7/7), done.\u001b[K\n",
            "remote: Compressing objects: 100% (7/7), done.\u001b[K\n",
            "remote: Total 11531 (delta 1), reused 0 (delta 0), pack-reused 11524\u001b[K\n",
            "Receiving objects: 100% (11531/11531), 5.26 MiB | 7.88 MiB/s, done.\n",
            "Resolving deltas: 100% (7480/7480), done.\n",
            "Requirement already satisfied: telethon in /root/venv/lib/python3.6/site-packages (1.14.0)\n",
            "Requirement already satisfied: pyaes in /root/venv/lib/python3.6/site-packages (from telethon) (1.6.1)\n",
            "Requirement already satisfied: rsa in /root/venv/lib/python3.6/site-packages (from telethon) (4.6)\n",
            "Requirement already satisfied: pyasn1>=0.1.3 in /root/venv/lib/python3.6/site-packages (from rsa->telethon) (0.4.8)\n",
            "Requirement already up-to-date: pip in /root/venv/lib/python3.6/site-packages (20.1.1)\n",
            "Aa gaye Betichod string generate karne. \n",
            "lodu use ==>> my.telegram.com (vpn use karna) <<==\n",
            "Apna Telegram Account login kar btc\n",
            "Click on API Development Tools Blah Blah Maa ki chu\n",
            "Create a new application, by entering the required details Maa ka bhosda\n",
            "Madarchod Enter APP ID here: 1215506\n",
            "Gandu ab API HASH daal: 7666172f206f41f3388beeb3be0271bd\n",
            "Please enter your phone (or bot token): +12106606623\n",
            "Please enter the code you received: 71232\n",
            "Please enter your password: \n",
            "Signed in successfully as Kaliya Yadav #suhagraat_geng\n",
            "1AZWarzkBuzOP6ESscYcutnnxxuWZ0JBG0kAYoxAK2eZbbHXyPhRA22gQniVuRkWe8-EMu-NNdGkB-IDwtZT1ynt-PUYvFYWD-39nV5kHlVUyYMtEAPaQwEfpmmM5rMkpXxQad19w-qgUtXRMquDSs0shVmvfppOe28QaWdJuNKEw3LV2C0pWufHeoPATwO-tgOkq4FNYFEPY6yfyHLbzW2-8SBFpoR0Cz9o8WygBYlv83pIsgp9WTeJK-93-WRmASb3BsLpujF4vjsQy5m3UjoUTnH4R8vdbRLQNxmvtLlZrpZqcGWTHZiir4DME1VKnb01_N-Mj9TKZJ-CreE5WqkiZ9rPw1-4=\n"
          ],
          "name": "stdout"
        }
      ]
    }
  ]
}